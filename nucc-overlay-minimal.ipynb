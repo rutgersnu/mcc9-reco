{
 "cells": [
  {
   "cell_type": "code",
   "execution_count": 33,
   "metadata": {},
   "outputs": [],
   "source": [
    "import helpfunction as helper\n",
    "import uproot\n",
    "import matplotlib.pyplot as plt\n",
    "import numpy as np\n",
    "import pandas as pd\n",
    "import matplotlib.patches as patches\n",
    "from matplotlib import colors\n",
    "from matplotlib.colors import LogNorm"
   ]
  },
  {
   "cell_type": "code",
   "execution_count": 34,
   "metadata": {},
   "outputs": [],
   "source": [
    "fidvol_vtx = [10, 10, 10, 10, 10, 50]\n",
    "mass_mu = 0.106\n",
    "mass_p = 0.938272\n",
    "kin_min = 0.04\n",
    "kin_min_mu = kin_min + mass_mu\n",
    "\n",
    "gr = (1 + 5 ** 0.5) / 2\n"
   ]
  },
  {
   "cell_type": "code",
   "execution_count": 35,
   "metadata": {},
   "outputs": [
    {
     "name": "stdout",
     "output_type": "stream",
     "text": [
      "('nu:All events: ', 1045525, '')\n",
      "('Selected events: ', 153957, '(0.00%)')\n",
      "('\\tDuplicated:', 0)\n"
     ]
    }
   ],
   "source": [
    "d = {}\n",
    "\n",
    "samples = {\n",
    "    #'nu': './input/run1/nu_run1.root'\n",
    "    'nu': '~/NuCCanalyser/NuCC_overlay.root'\n",
    "}\n",
    "main_tree_name = \"NuCCanalyzer\"\n",
    "\n",
    "for sample, filename in samples.items():\n",
    "    file = uproot.open(filename)[main_tree_name]\n",
    "    d[sample] = {\n",
    "        \"subruns\": file[\"subruns\"],\n",
    "        \"events\": file[\"Event\"],\n",
    "        \"daughters\": file[\"Daughters\"],\n",
    "    }\n",
    "\n",
    "    all_events = d[sample][\"events\"].numentries\n",
    "    sel_events = sum(d[sample][\"events\"].array(\"nu_mu_cc_selected\"))\n",
    "    print(sample + \":All events: \", all_events, \"\")\n",
    "    print(\n",
    "        \"Selected events: \",\n",
    "        sel_events,\n",
    "        \"({:.02f}%)\".format(sel_events / all_events * 100),\n",
    "    )\n",
    "\n",
    "    d[sample][\"event_hash\"] = helper.eventHash(\n",
    "        d[sample][\"events\"].pandas.df([\"evt_time_sec\", \"evt_time_nsec\"])\n",
    "    )\n",
    "    d[sample][\"forbidden_hashes\"] = d[sample][\"event_hash\"][\n",
    "        d[sample][\"event_hash\"].duplicated()\n",
    "    ]\n",
    "    print(\"\\tDuplicated:\", len(d[sample][\"forbidden_hashes\"]))\n",
    "\n",
    "    d[sample][\"df_daughters\"] = d[sample][\"daughters\"].pandas.df(flatten=False)\n",
    "    d[sample][\"df_daughters\"][\"hash\"] = helper.eventHash(\n",
    "        d[sample][\"df_daughters\"][[\"evt_time_sec\", \"evt_time_nsec\"]]\n",
    "    )\n",
    "    d[sample][\"df_daughters\"][\"duplicated\"] = d[sample][\"df_daughters\"][\"hash\"].isin(\n",
    "        d[sample][\"forbidden_hashes\"]\n",
    "    )\n",
    "    d[sample][\"df_daughters\"] = (\n",
    "        d[sample][\"df_daughters\"].query(\"~duplicated\").copy().reset_index(drop=True)\n",
    "    )"
   ]
  },
  {
   "cell_type": "code",
   "execution_count": 36,
   "metadata": {},
   "outputs": [],
   "source": [
    "# Add the signal categories, only needed for the nu sample:\n",
    "cols = [\n",
    "    \"mc_nu_ccnc\",\n",
    "    \"mc_nu_lepton_energy\",\n",
    "    \"mc_nu_pdg\",\n",
    "    \"mc_nu_vx\",\n",
    "    \"mc_nu_vy\",\n",
    "    \"mc_nu_vz\",\n",
    "]\n",
    "\n",
    "df_nu_event = d[\"nu\"][\"events\"].pandas.df(cols)\n",
    "\n",
    "nu_tpc_mask = helper.inTPC_mask(df_nu_event, \"mc_nu_vx\", \"mc_nu_vy\", \"mc_nu_vz\")\n",
    "\n",
    "nu_fid_vol_mask = helper.inTPC_mask(\n",
    "    df_nu_event, \"mc_nu_vx\", \"mc_nu_vy\", \"mc_nu_vz\", fidvol=fidvol_vtx\n",
    ")\n",
    "\n",
    "sig_def_ccinc = \"abs(mc_nu_pdg)==14 & mc_nu_ccnc==0 & mc_nu_lepton_energy>@kin_min_mu\"\n",
    "sig_mask_ccinc = df_nu_event.eval(sig_def_ccinc) & nu_fid_vol_mask\n",
    "\n",
    "# Has the event one pi0\n",
    "pi0_index = d[\"nu\"][\"events\"].array(\"mc_nu_daughter_pdg\") == 111\n",
    "sig_mask_pi0 = sig_mask_ccinc & (pi0_index.sum() == 1)\n",
    "\n",
    "# Has x protons\n",
    "sig_masks_proton = []\n",
    "m1 = d[\"nu\"][\"events\"].array(\"mc_nu_daughter_pdg\") == 2212\n",
    "m2 = d[\"nu\"][\"events\"].array(\"mc_nu_daughter_energy\") > mass_p + kin_min\n",
    "proton_index = m1 & m2\n",
    "sig_masks_proton = [\n",
    "    sig_mask_ccinc & (proton_index.sum() == x_proton) for x_proton in range(4)\n",
    "]\n",
    "\n",
    "\n",
    "# Add MC info\n",
    "mapper = dict(zip(d[\"nu\"][\"event_hash\"], nu_tpc_mask))\n",
    "d[\"nu\"][\"df_daughters\"][\"mc_nu_in_tpc\"] = d[\"nu\"][\"df_daughters\"][\"hash\"].map(mapper)\n",
    "mapper = dict(zip(d[\"nu\"][\"event_hash\"], nu_fid_vol_mask))\n",
    "d[\"nu\"][\"df_daughters\"][\"mc_nu_fid_vol\"] = d[\"nu\"][\"df_daughters\"][\"hash\"].map(mapper)\n",
    "\n",
    "mapper = dict(zip(d[\"nu\"][\"event_hash\"], sig_mask_ccinc))\n",
    "d[\"nu\"][\"df_daughters\"][\"mc_sig_nuccinc\"] = d[\"nu\"][\"df_daughters\"][\"hash\"].map(mapper)\n",
    "mapper = dict(zip(d[\"nu\"][\"event_hash\"], sig_mask_pi0))\n",
    "d[\"nu\"][\"df_daughters\"][\"mc_sig_nuccpi0\"] = d[\"nu\"][\"df_daughters\"][\"hash\"].map(mapper)"
   ]
  },
  {
   "cell_type": "code",
   "execution_count": 37,
   "metadata": {},
   "outputs": [
    {
     "name": "stdout",
     "output_type": "stream",
     "text": [
      "('nu', ':\\t', 1.3081447199159453e+21)\n"
     ]
    }
   ],
   "source": [
    "pot_on = 1.467e20\n",
    "triggers_on = 35425849\n",
    "triggers_off = 31725245\n",
    "\n",
    "samples_mc = [\"nue\", \"nu\", \"dirt\"]\n",
    "for smc in samples_mc:\n",
    "    if smc in samples:\n",
    "        pot = sum(d[smc][\"subruns\"].array(\"pot\"))\n",
    "        pot_corr = pot * (\n",
    "            1 - len(d[smc][\"forbidden_hashes\"]) * 2 / d[smc][\"events\"].numentries\n",
    "        )\n",
    "        d[smc][\"scale\"] = pot_on / pot_corr\n",
    "        print(smc, \":\\t\", pot_corr)"
   ]
  },
  {
   "cell_type": "code",
   "execution_count": 38,
   "metadata": {},
   "outputs": [
    {
     "name": "stdout",
     "output_type": "stream",
     "text": [
      "nu\n"
     ]
    }
   ],
   "source": [
    "mapper_list = [\n",
    "    \"mc_nu_energy\",\n",
    "    \"mc_nu_pdg\",\n",
    "    \"mc_nu_ccnc\",\n",
    "    \"mc_nu_lepton_theta\",\n",
    "    \"mc_nu_vtx_distance\",\n",
    "    \"clustered_hit_completeness\",\n",
    "    \"matched_hit_fraction\",\n",
    "]\n",
    "\n",
    "for smc in samples_mc:\n",
    "    if smc in samples:\n",
    "        print(smc)\n",
    "        for field in mapper_list:\n",
    "            mapper = dict(zip(d[smc][\"event_hash\"], d[smc][\"events\"].array(field)))\n",
    "            d[smc][\"df_daughters\"][field] = d[smc][\"df_daughters\"][\"hash\"].map(mapper)"
   ]
  },
  {
   "cell_type": "code",
   "execution_count": 39,
   "metadata": {},
   "outputs": [
    {
     "name": "stdout",
     "output_type": "stream",
     "text": [
      "nu\n"
     ]
    }
   ],
   "source": [
    "mapper_list = [\n",
    "    \"nu_pdg\",\n",
    "    \"num_tracks\",\n",
    "    \"num_showers\",\n",
    "    \"obvious_cosmic_chi2\",\n",
    "    \"nu_flash_chi2\",\n",
    "    \"nu_score\",\n",
    "    \"nu_contained\",\n",
    "    \"daughters_start_contained\",\n",
    "    \"event_weight\",\n",
    "]\n",
    "\n",
    "for sample in samples:\n",
    "    print(sample)\n",
    "    for field in mapper_list:\n",
    "        mapper = dict(zip(d[sample][\"event_hash\"], d[sample][\"events\"].array(field)))\n",
    "        d[sample][\"df_daughters\"][field] = d[sample][\"df_daughters\"][\"hash\"].map(mapper)\n",
    "\n",
    "        d[sample][\"df_daughters\"][[\"theta_beam\", \"phi_beam\"]] = helper.cosmic_angles(\n",
    "            *d[sample][\"df_daughters\"][\n",
    "                [\"track_dirx\", \"track_diry\", \"track_dirz\"]\n",
    "            ].T.values\n",
    "        )\n",
    "\n",
    "        end_mask = helper.inTPC_mask(\n",
    "            d[sample][\"df_daughters\"],\n",
    "            \"track_endx\",\n",
    "            \"track_endy\",\n",
    "            \"track_endz\",\n",
    "            [10] * 6,\n",
    "        )\n",
    "        d[sample][\"df_daughters\"][\"contained\"] = (\n",
    "            d[sample][\"df_daughters\"][\"start_contained\"] & end_mask\n",
    "        )"
   ]
  },
  {
   "cell_type": "code",
   "execution_count": 40,
   "metadata": {},
   "outputs": [],
   "source": [
    "for sample in samples:\n",
    "    # Tag the muon candidate\n",
    "    d[sample][\"df_daughters\"][\"muon_candidate\"] = d[sample][\"df_daughters\"].eval(\n",
    "        muon_candidate_selection\n",
    "    )\n",
    "    d[sample][\"df_daughters\"].loc[\n",
    "        d[sample][\"df_daughters\"][\"muon_candidate\"], \"longest_muon_candidate_length\"\n",
    "    ] = (\n",
    "        d[sample][\"df_daughters\"]\n",
    "        .query(\"muon_candidate\")\n",
    "        .groupby([\"hash\"])[\"track_length\"]\n",
    "        .transform(max)\n",
    "    )\n",
    "    d[sample][\"df_daughters\"].loc[\n",
    "        ~d[sample][\"df_daughters\"][\"muon_candidate\"], \"longest_muon_candidate_length\"\n",
    "    ] = -1\n",
    "\n",
    "    d[sample][\"df_daughters\"][\"chi2_ratio\"] = d[sample][\"df_daughters\"].eval(\n",
    "        \"track_chi2_proton/track_chi2_muon\"\n",
    "    )\n",
    "    d[sample][\"df_daughters\"].loc[\n",
    "        d[sample][\"df_daughters\"][\"muon_candidate\"], \"highest_chi2_ratio\"\n",
    "    ] = (\n",
    "        d[sample][\"df_daughters\"]\n",
    "        .query(\"muon_candidate\")\n",
    "        .groupby([\"hash\"])[\"chi2_ratio\"]\n",
    "        .transform(max)\n",
    "    )\n",
    "    d[sample][\"df_daughters\"].loc[\n",
    "        ~d[sample][\"df_daughters\"][\"muon_candidate\"], \"highest_chi2_ratio\"\n",
    "    ] = -1\n",
    "\n",
    "    # Tag the event selection\n",
    "    d[sample][\"df_daughters\"][\"python_select\"] = d[sample][\"df_daughters\"].eval(\n",
    "        query_select\n",
    "    )"
   ]
  },
  {
   "cell_type": "code",
   "execution_count": 41,
   "metadata": {},
   "outputs": [
    {
     "data": {
      "text/plain": [
       "(13           0.979370\n",
       " 16           6.389270\n",
       " 24          47.107803\n",
       " 41           3.598572\n",
       " 47           1.145936\n",
       " 55           7.546242\n",
       " 69           0.766939\n",
       " 70           1.653346\n",
       " 91           1.773566\n",
       " 93           1.258787\n",
       " 98           8.529840\n",
       " 115          3.104046\n",
       " 128        119.521278\n",
       " 130          4.874032\n",
       " 131          0.896166\n",
       " 136          4.994493\n",
       " 143         28.938185\n",
       " 153         70.679695\n",
       " 161          1.642983\n",
       " 186          1.475612\n",
       " 196          1.653954\n",
       " 205         14.037934\n",
       " 229          4.102750\n",
       " 239          2.219310\n",
       " 259        139.378143\n",
       " 263          6.928604\n",
       " 269          0.989128\n",
       " 273         86.554428\n",
       " 276        145.814728\n",
       " 280          0.937864\n",
       "               ...    \n",
       " 1083507      1.342923\n",
       " 1083509      2.474099\n",
       " 1083519     44.105846\n",
       " 1083530      0.651141\n",
       " 1083545      4.142364\n",
       " 1083560      0.685092\n",
       " 1083596      7.075412\n",
       " 1083608      5.224916\n",
       " 1083620      0.871695\n",
       " 1083621      3.165630\n",
       " 1083624     13.887435\n",
       " 1083643      3.704027\n",
       " 1083656      1.357323\n",
       " 1083661     12.996903\n",
       " 1083677     37.948891\n",
       " 1083681      1.252270\n",
       " 1083685      1.928341\n",
       " 1083704      1.492498\n",
       " 1083706      2.174510\n",
       " 1083715     11.627671\n",
       " 1083719      1.843161\n",
       " 1083729      1.119049\n",
       " 1083773     10.195940\n",
       " 1083777      4.802242\n",
       " 1083778      7.338327\n",
       " 1083780      9.622580\n",
       " 1083785      1.836360\n",
       " 1083790      6.687564\n",
       " 1083793      6.469792\n",
       " 1083797      1.648988\n",
       " Name: nu_flash_chi2, Length: 112531, dtype: float64,)"
      ]
     },
     "execution_count": 41,
     "metadata": {},
     "output_type": "execute_result"
    }
   ],
   "source": [
    "muon_candidate_selection = \"track_score>0.90 &\\\n",
    "                            vtx_distance<4.0 &\\\n",
    "                            track_chi2_proton>60.0 &\\\n",
    "                            track_chi2_muon<30.0 &\\\n",
    "                            (track_chi2_proton/track_chi2_muon)>7.0 &\\\n",
    "                            generation==2 &\\\n",
    "                            track_length>5\"\n",
    "event_selection = \"mc_nu_pdg==14 &\\\n",
    "                   (nu_flash_chi2<10.0 | nu_score>0.25) &\\\n",
    "                   daughters_start_contained &\\\n",
    "                   nu_contained &\\\n",
    "                   longest_muon_candidate_length==track_length &\\\n",
    "                   nu_score>0.06\"\n",
    "# Selection queries\n",
    "query_select_wo_trackcut = event_selection\n",
    "query_select = query_select_wo_trackcut + \" & track_length>20.0\"\n",
    "query_pure = \"mc_nu_vtx_distance<5 & abs(mc_pdg)==13\"\n",
    "query_event = query_select + \" & \" + query_pure\n",
    "\n",
    "d[\"nu\"][\"df_daughters\"].query(query_event)[\"nu_score\"],\n",
    "d[\"nu\"][\"df_daughters\"].query(query_event)[\"nu_flash_chi2\"],"
   ]
  },
  {
   "cell_type": "code",
   "execution_count": 42,
   "metadata": {},
   "outputs": [],
   "source": [
    "# Selection queries\n",
    "query_select_wo_trackcut = event_selection\n",
    "query_select = query_select_wo_trackcut + \" & track_length>20.0\"\n",
    "query_pure = \"mc_nu_vtx_distance<5 & abs(mc_pdg)==13\"\n",
    "query_event = query_select + \" & \" + query_pure"
   ]
  },
  {
   "cell_type": "code",
   "execution_count": 43,
   "metadata": {},
   "outputs": [
    {
     "name": "stdout",
     "output_type": "stream",
     "text": [
      "Muon neutrino CC inc selection efficiency: (0.00+-0.14)%\n",
      "Muon neutrino CC pi0 selection efficiency: (0.00+-0.40)%\n",
      "Muon neutrino CC inc selection purity (basic): (87.14+-0.26)%\n",
      "Muon neutrino CC inc selection purity (strict): (73.65+-0.34)%\n"
     ]
    }
   ],
   "source": [
    "# Using python:\n",
    "num_sel = d[\"nu\"][\"df_daughters\"].query(\"mc_sig_nuccinc\")[\"python_select\"].sum()\n",
    "num_denom = sum(sig_mask_ccinc)\n",
    "error = helper.effErr(num_sel, num_denom)\n",
    "print(\n",
    "    \"Muon neutrino CC inc selection efficiency: ({0:0.2f}+-{1:0.2f})%\".format(\n",
    "        num_sel / num_denom * 100, error * 100\n",
    "    )\n",
    ")\n",
    "\n",
    "num_sel = d[\"nu\"][\"df_daughters\"].query(\"mc_sig_nuccpi0\")[\"python_select\"].sum()\n",
    "num_denom = sum(sig_mask_pi0)\n",
    "error = helper.effErr(num_sel, num_denom)\n",
    "print(\n",
    "    \"Muon neutrino CC pi0 selection efficiency: ({0:0.2f}+-{1:0.2f})%\".format(\n",
    "        num_sel / num_denom * 100, error * 100\n",
    "    )\n",
    ")\n",
    "\n",
    "# purity\n",
    "purity_nom = (\n",
    "    d[\"nu\"][\"df_daughters\"].query(\"mc_sig_nuccinc\").eval(query_select).sum()\n",
    "    * d[\"nu\"][\"scale\"]\n",
    ")\n",
    "purity_nom_plus = (\n",
    "    d[\"nu\"][\"df_daughters\"].query(\"mc_sig_nuccinc\").eval(query_event).sum()\n",
    "    * d[\"nu\"][\"scale\"]\n",
    ")\n",
    "purity_denom = 0\n",
    "\n",
    "for s in ['nu']: #\"off\", \"nu\"]: #, \"dirt\"]:\n",
    "    purity_denom += d[s][\"df_daughters\"][\"python_select\"].sum() * d[s][\"scale\"]\n",
    "\n",
    "error = helper.effErr(purity_nom, purity_denom)\n",
    "purity = purity_nom / purity_denom\n",
    "print(\n",
    "    \"Muon neutrino CC inc selection purity (basic): ({0:0.2f}+-{1:0.2f})%\".format(\n",
    "        purity * 100, error * 100\n",
    "    )\n",
    ")\n",
    "error = helper.effErr(purity_nom_plus, purity_denom)\n",
    "purity_plus = purity_nom_plus / purity_denom\n",
    "print(\n",
    "    \"Muon neutrino CC inc selection purity (strict): ({0:0.2f}+-{1:0.2f})%\".format(\n",
    "        purity_plus * 100, error * 100\n",
    "    )\n",
    ")"
   ]
  },
  {
   "cell_type": "code",
   "execution_count": 44,
   "metadata": {},
   "outputs": [
    {
     "name": "stdout",
     "output_type": "stream",
     "text": [
      "0.7512634439111017\n"
     ]
    },
    {
     "data": {
      "image/png": "[encoded data removed]",
      "text/plain": [
       "<Figure size 1080x360 with 3 Axes>"
      ]
     },
     "metadata": {
      "needs_background": "light"
     },
     "output_type": "display_data"
    }
   ],
   "source": [
    "fig, (ax1, ax2, ax3) = plt.subplots(1,3,figsize=(15,5))\n",
    "\n",
    "hist1, _, _ = ax1.hist(d[\"nu\"][\"df_daughters\"].query(query_select)[\"nu_score\"], bins=np.linspace(0, 1, 34))\n",
    "hist2, _, _ = ax1.hist(d[\"nu\"][\"df_daughters\"].query(query_event)[\"nu_score\"], bins=np.linspace(0, 1, 34))\n",
    "print(np.sum(hist2)/np.sum(hist1))\n",
    "\n",
    "ax2.hist(d[\"nu\"][\"df_daughters\"].query(query_select)[\"nu_flash_chi2\"], bins=np.linspace(0, 30, 31))\n",
    "ax2.hist(d[\"nu\"][\"df_daughters\"].query(query_event)[\"nu_flash_chi2\"], bins=np.linspace(0, 30, 31))\n",
    "\n",
    "ax3.hist2d(\n",
    "    d[\"nu\"][\"df_daughters\"].query(query_event)[\"nu_score\"],\n",
    "    d[\"nu\"][\"df_daughters\"].query(query_event)[\"nu_flash_chi2\"],\n",
    "    cmap=\"coolwarm\",\n",
    "    range=[[0, 1], [0, 30]],\n",
    "    bins=[20, 20],\n",
    "    norm=LogNorm(),\n",
    ")\n",
    "plt.show()"
   ]
  },
  {
   "cell_type": "code",
   "execution_count": null,
   "metadata": {},
   "outputs": [],
   "source": [
    "fig, (ax1, ax2, ax3) = plt.subplots(1,3,figsize=(15,5))\n",
    "\n",
    "hist1, _, _ = ax1.hist(d[\"nu\"][\"df_daughters\"].query(query_select)[\"nu_score\"], bins=np.linspace(0, 1, 34))\n",
    "hist2, _, _ = ax1.hist(d[\"nu\"][\"df_daughters\"].query(query_event)[\"nu_score\"], bins=np.linspace(0, 1, 34))\n",
    "print(np.sum(hist2)/np.sum(hist1))\n",
    "\n",
    "ax2.hist(d[\"nu\"][\"df_daughters\"].query(query_select)[\"nu_flash_chi2\"], bins=np.linspace(0, 30, 31))\n",
    "ax2.hist(d[\"nu\"][\"df_daughters\"].query(query_event)[\"nu_flash_chi2\"], bins=np.linspace(0, 30, 31))\n",
    "\n",
    "ax3.hist2d(\n",
    "    d[\"nu\"][\"df_daughters\"].query(query_event)[\"nu_score\"],\n",
    "    d[\"nu\"][\"df_daughters\"].query(query_event)[\"nu_flash_chi2\"],\n",
    "    cmap=\"coolwarm\",\n",
    "    range=[[0, 1], [0, 30]],\n",
    "    bins=[20, 20],\n",
    "    norm=LogNorm(),\n",
    ")\n",
    "plt.show()"
   ]
  },
  {
   "cell_type": "code",
   "execution_count": null,
   "metadata": {},
   "outputs": [],
   "source": []
  }
 ],
 "metadata": {
  "kernelspec": {
   "display_name": "Python 2",
   "language": "python",
   "name": "python2"
  },
  "language_info": {
   "codemirror_mode": {
    "name": "ipython",
    "version": 2
   },
   "file_extension": ".py",
   "mimetype": "text/x-python",
   "name": "python",
   "nbconvert_exporter": "python",
   "pygments_lexer": "ipython2",
   "version": "2.7.15+"
  }
 },
 "nbformat": 4,
 "nbformat_minor": 4
}
